{
 "cells": [
  {
   "cell_type": "markdown",
   "metadata": {},
   "source": [
    "**Payoff Function:**\n",
    "\n",
    "$S_{T}^{1/3} + 1.5 \\times log(S_{T}) + 10.0$"
   ]
  },
  {
   "cell_type": "markdown",
   "metadata": {},
   "source": [
    "The Black-Scholes model would yield a payoff function of:\n",
    "\n",
    "\\begin{equation}\n",
    "V_{0} = e^{-rT} \\left[S_{0}^{1/3} e^{\\frac{rT}{3} - \\frac{\\sigma^{2}T}{9}} + \\frac{3}{2} \\log\\left(S_{0}\\right) + \\frac{3}{2}\\left(r - \\frac{\\sigma^{2}}{2}\\right)T + 10 \\right]\n",
    "\\end{equation}"
   ]
  },
  {
   "cell_type": "code",
   "execution_count": 29,
   "metadata": {},
   "outputs": [
    {
     "data": {
      "text/plain": [
       "37.70663131596357"
      ]
     },
     "execution_count": 29,
     "metadata": {},
     "output_type": "execute_result"
    }
   ],
   "source": [
    "import numpy as np\n",
    "\n",
    "implied_vol = 0.1807\n",
    "S = 3663.3762493669747\n",
    "T = 0.1232876712328767\n",
    "r = 0.002206\n",
    "K = 3663.3898755765863\n",
    "alpha = 2.137298210993995\n",
    "beta = 0.7\n",
    "rho = -0.6008211054152619\n",
    "nu = 2.2665005058006495\n",
    "\n",
    "def BlackScholesPayoff(S, r, sigma, T):\n",
    "    return np.exp(-r*T)*(S**(1/3)*np.exp(r*T/3 - sigma**2*T/9) + 3/2*np.log(S) + 3/2*(r - sigma**2/2)*T + 10)\n",
    "\n",
    "BlackScholesPayoff(S,r,implied_vol,T)"
   ]
  },
  {
   "cell_type": "markdown",
   "metadata": {},
   "source": [
    "The Bachelier model would yield a payoff function of:\n",
    "\n",
    "\\begin{equation}\n",
    "V_{0} = e^{-rT} \\left[S_{0}^{1/3} + 1.5\\log(S_{0}) - \\frac{3\\sigma^{2}T}{4S_{0}^{2}} + 10 \\right]\n",
    "\\end{equation}"
   ]
  },
  {
   "cell_type": "code",
   "execution_count": 32,
   "metadata": {},
   "outputs": [
    {
     "data": {
      "text/plain": [
       "37.71477093059557"
      ]
     },
     "execution_count": 32,
     "metadata": {},
     "output_type": "execute_result"
    }
   ],
   "source": [
    "def BachelierPayoff(S, r, sigma, T):\n",
    "    return np.exp(-r*T)*(S**(1/3) + 1.5*np.log(S) - (3*sigma**2*T)/(4*S**2) + 10)\n",
    "BachelierPayoff(S,r,implied_vol,T)"
   ]
  },
  {
   "cell_type": "markdown",
   "metadata": {},
   "source": [
    "Static Replication of european payoff (SABR):\n",
    "\n",
    "\\begin{equation}\n",
    "e^{-rT} h\\left(F\\right) + \\int_{0}^F h''(K) P\\left(K\\right)dK + \\int_{F}^\\infty h''(K) C\\left(K\\right)dK\\\\\n",
    "h\\left(F\\right) = S_{0}^{\\frac{1}{3}} e^{\\frac{rT}{2}} +1.5\\log(S_{0}e^{rT}) + 10 \\hspace{1cm} h\\left(S_{T}\\right) = S_{T}^{1/3} + 1.5\\log\\left(S_{T}\\right) + 10 \\hspace{1cm} h'\\left(S_{T}\\right) = \\frac{1}{3S_{T}^{\\frac{2}{3}}} + \\frac{3}{2S_{T}} \\hspace{1cm} h''\\left(S_{T}\\right) = - \\frac{2}{9S_{T}^{\\frac{5}{3}}} - \\frac{3}{2S_{T}^{2}}\n",
    "\\end{equation}"
   ]
  },
  {
   "cell_type": "code",
   "execution_count": 31,
   "metadata": {},
   "outputs": [
    {
     "data": {
      "text/plain": [
       "37.70204130640218"
      ]
     },
     "execution_count": 31,
     "metadata": {},
     "output_type": "execute_result"
    }
   ],
   "source": [
    "from scipy.stats import norm\n",
    "from scipy.integrate import quad\n",
    "\n",
    "def SABR(F, K, T, alpha, beta, rho, nu):\n",
    "    X = K\n",
    "    # if K is at-the-money-forward\n",
    "    if abs(F - K) < 1e-12:\n",
    "        numer1 = (((1 - beta)**2)/24)*alpha*alpha/(F**(2 - 2*beta))\n",
    "        numer2 = 0.25*rho*beta*nu*alpha/(F**(1 - beta))\n",
    "        numer3 = ((2 - 3*rho*rho)/24)*nu*nu\n",
    "        VolAtm = alpha*(1 + (numer1 + numer2 + numer3)*T)/(F**(1-beta))\n",
    "        sabrsigma = VolAtm\n",
    "    else:\n",
    "        z = (nu/alpha)*((F*X)**(0.5*(1-beta)))*np.log(F/X)\n",
    "        zhi = np.log((((1 - 2*rho*z + z*z)**0.5) + z - rho)/(1 - rho))\n",
    "        numer1 = (((1 - beta)**2)/24)*((alpha*alpha)/((F*X)**(1 - beta)))\n",
    "        numer2 = 0.25*rho*beta*nu*alpha/((F*X)**((1 - beta)/2))\n",
    "        numer3 = ((2 - 3*rho*rho)/24)*nu*nu\n",
    "        numer = alpha*(1 + (numer1 + numer2 + numer3)*T)*z\n",
    "        denom1 = ((1 - beta)**2/24)*(np.log(F/X))**2\n",
    "        denom2 = (((1 - beta)**4)/1920)*((np.log(F/X))**4)\n",
    "        denom = ((F*X)**((1 - beta)/2))*(1 + denom1 + denom2)*zhi\n",
    "        sabrsigma = numer/denom\n",
    "\n",
    "    return sabrsigma\n",
    "\n",
    "def BlackScholesCall(S, K, r, sigma, T):\n",
    "    d1 = (np.log(S/K)+(r+sigma**2/2)*T) / (sigma*np.sqrt(T))\n",
    "    d2 = d1 - sigma*np.sqrt(T)\n",
    "    return S*norm.cdf(d1) - K*np.exp(-r*T)*norm.cdf(d2)\n",
    "\n",
    "def BlackScholesPut(S, K, r, sigma, T):\n",
    "    return BlackScholesCall(S, K, r, sigma, T) - S + K*np.exp(-r*T)\n",
    "\n",
    "def SABRCall(S, K, r, T, alpha, beta, rho, nu):\n",
    "    sabr_vol = SABR(S*np.exp(r*T), K, T, alpha, beta, rho, nu)\n",
    "    return BlackScholesCall(S, K, r, sabr_vol, T)\n",
    "\n",
    "def SABRPut(S, K, r, T, alpha, beta, rho, nu):\n",
    "    sabr_vol = SABR(S*np.exp(r*T), K, T, alpha, beta, rho, nu)\n",
    "    return BlackScholesPut(S, K, r, sabr_vol, T)\n",
    "\n",
    "def SABRcallintegrand_sr(S, K, r, T, alpha, beta, rho, nu):\n",
    "    price = (- (2/(9*(K**(5/3)))) - (3/(2*K**2))) * SABRCall(S, K, r, T, alpha, beta, rho, nu)\n",
    "    return price\n",
    "\n",
    "def SABRputintegrand_sr(S, K, r, T, alpha, beta, rho, nu):\n",
    "    price = (- (2/(9*(K**(5/3)))) - (3/(2*K**2))) * SABRPut(S, K, r, T, alpha, beta, rho, nu)\n",
    "    return price\n",
    "\n",
    "def SABRStaticReplication(S, K, r, T, alpha, beta, rho, nu):\n",
    "    F = S * np.exp(r*T)\n",
    "    h_F = S**(1/3)*np.exp(r*T/3) + 1.5*np.log(S*np.exp(r*T)) + 10\n",
    "    I_put = quad(lambda x: SABRcallintegrand_sr(x, S, r, T, alpha, beta, rho, nu), 1e-6, F)\n",
    "    I_call = quad(lambda x: SABRputintegrand_sr(x, S, r, T, alpha, beta, rho, nu), F, 5000)\n",
    "    return np.exp(-r*T)*h_F + I_put[0] + I_call[0]\n",
    "\n",
    "SABRStaticReplication(S, K, r, T, alpha, beta, rho, nu)"
   ]
  },
  {
   "cell_type": "markdown",
   "metadata": {},
   "source": [
    "**Payoff Function:**\n",
    "\n",
    "\\begin{equation*}\n",
    "  \\begin{split}\n",
    "    \\sigma^2{_M}{_F}T &= \\mathbb{E}\\left[ \\int_0^T \\sigma_t^2 \\; dt \\right]\n",
    "  \\end{split}\n",
    "\\end{equation*}"
   ]
  },
  {
   "cell_type": "markdown",
   "metadata": {},
   "source": [
    "The Black-Scholes and Bachelier Models would yield a payoff function of:\n",
    "\n",
    "\n",
    "\\begin{equation*}\n",
    "  \\begin{split}\n",
    "    e^{-rT} \\mathbb{E}\\left[ \\int_0^T \\sigma_t^2 \\; dt \\right] &= e^{-rT} \\int_0^T \\sigma^2_t \\; dt \\\\\n",
    "    &= e^{-rT} \\sigma^2_tT\n",
    "  \\end{split}\n",
    "\\end{equation*}"
   ]
  },
  {
   "cell_type": "code",
   "execution_count": 33,
   "metadata": {},
   "outputs": [
    {
     "data": {
      "text/plain": [
       "0.004024554734568931"
      ]
     },
     "execution_count": 33,
     "metadata": {},
     "output_type": "execute_result"
    }
   ],
   "source": [
    "implied_vol = 0.1807\n",
    "r = 0.002206\n",
    "T = 0.1232876712328767\n",
    "\n",
    "def BlackScholesBachelierPayoff(implied_vol,r, T):\n",
    "    payoff = np.exp(-r*T)*(implied_vol**2)*T\n",
    "    return payoff\n",
    "\n",
    "BlackScholesBachelierPayoff(implied_vol, r, T)"
   ]
  },
  {
   "cell_type": "markdown",
   "metadata": {},
   "source": [
    "Static Replication of European Payoff:\n",
    "    \\begin{equation*}\n",
    "\\begin{split}\n",
    "    e^{-rT} \\mathbb{E}\\left[\\int_0^T\\sigma_t^2 \\;dt\\right] = 2\\left(\\int_0^{F}\\frac{P(K)}{K^2}\\;dK + \\int_{F}^{\\infty}\\frac{C(K)}{K^2}\\;dK\\right)\n",
    "    \\end{split}\n",
    "\\end{equation*}"
   ]
  },
  {
   "cell_type": "code",
   "execution_count": 21,
   "metadata": {},
   "outputs": [],
   "source": [
    "def SABR(F, K, T, alpha, beta, rho, nu):\n",
    "    X = K\n",
    "    # if K is at-the-money-forward\n",
    "    if abs(F - K) < 1e-12:\n",
    "        numer1 = (((1 - beta)**2)/24)*alpha*alpha/(F**(2 - 2*beta))\n",
    "        numer2 = 0.25*rho*beta*nu*alpha/(F**(1 - beta))\n",
    "        numer3 = ((2 - 3*rho*rho)/24)*nu*nu\n",
    "        VolAtm = alpha*(1 + (numer1 + numer2 + numer3)*T)/(F**(1-beta))\n",
    "        sabrsigma = VolAtm\n",
    "    else:\n",
    "        z = (nu/alpha)*((F*X)**(0.5*(1-beta)))*np.log(F/X)\n",
    "        zhi = np.log((((1 - 2*rho*z + z*z)**0.5) + z - rho)/(1 - rho))\n",
    "        numer1 = (((1 - beta)**2)/24)*((alpha*alpha)/((F*X)**(1 - beta)))\n",
    "        numer2 = 0.25*rho*beta*nu*alpha/((F*X)**((1 - beta)/2))\n",
    "        numer3 = ((2 - 3*rho*rho)/24)*nu*nu\n",
    "        numer = alpha*(1 + (numer1 + numer2 + numer3)*T)*z\n",
    "        denom1 = ((1 - beta)**2/24)*(np.log(F/X))**2\n",
    "        denom2 = (((1 - beta)**4)/1920)*((np.log(F/X))**4)\n",
    "        denom = ((F*X)**((1 - beta)/2))*(1 + denom1 + denom2)*zhi\n",
    "        sabrsigma = numer/denom\n",
    "\n",
    "    return sabrsigma\n",
    "\n",
    "def SABRCall(S, K, r, alpha, beta, rho, nu, T):\n",
    "    sabr_vol = SABR(S*np.exp(r*T), K, T, alpha, beta, rho, nu)\n",
    "    return BlackScholesCall(S, K, r, sabr_vol, T)\n",
    "\n",
    "\n",
    "def SABRPut(S, K, r, alpha, beta, rho, nu, T):\n",
    "    sabr_vol = SABR(S*np.exp(r*T), K, T, alpha, beta, rho, nu)\n",
    "    return BlackScholesPut(S, K, r, sabr_vol, T)\n",
    "\n",
    "\n",
    "def sabrcallintegrand(K, S, r, T, alpha, beta, rho, nu):\n",
    "    price = SABRCall(S, K, r, alpha, beta, rho, nu, T) / K**2\n",
    "    return price\n",
    "\n",
    "\n",
    "def sabrputintegrand(K, S, r, T, alpha, beta, rho, nu):\n",
    "    price = SABRPut(S, K, r, alpha, beta, rho, nu, T) / K**2\n",
    "    return price"
   ]
  },
  {
   "cell_type": "code",
   "execution_count": 24,
   "metadata": {},
   "outputs": [
    {
     "data": {
      "text/plain": [
       "0.006322994300468699"
      ]
     },
     "execution_count": 24,
     "metadata": {},
     "output_type": "execute_result"
    }
   ],
   "source": [
    "S = 3663.3762493669747\n",
    "T = 0.1232876712328767\n",
    "r = 0.002206\n",
    "K = 3663.3898755765863\n",
    "alpha = 2.137298210993995\n",
    "beta = 0.7\n",
    "rho = -0.6008211054152619\n",
    "nu = 2.2665005058006495\n",
    "\n",
    "def SABRPayoff(K, S, r, T, alpha, beta, rho, nu):\n",
    "    I_put = quad(lambda x: sabrputintegrand(x, S, r, T, alpha, beta, rho, nu), 1e-6, S * np.exp(r*T))\n",
    "    I_call = quad(lambda x: sabrcallintegrand(x, S, r, T, alpha, beta, rho, nu), S * np.exp(r*T), 5000)\n",
    "    payoff = 2*np.exp(r*T)*(I_put[0] + I_call[0])\n",
    "    return payoff\n",
    "    \n",
    "SABRPayoff(K, S, r, T, alpha, beta, rho, nu)"
   ]
  },
  {
   "cell_type": "code",
   "execution_count": null,
   "metadata": {},
   "outputs": [],
   "source": []
  }
 ],
 "metadata": {
  "kernelspec": {
   "display_name": "Python 3",
   "language": "python",
   "name": "python3"
  },
  "language_info": {
   "codemirror_mode": {
    "name": "ipython",
    "version": 3
   },
   "file_extension": ".py",
   "mimetype": "text/x-python",
   "name": "python",
   "nbconvert_exporter": "python",
   "pygments_lexer": "ipython3",
   "version": "3.8.5"
  }
 },
 "nbformat": 4,
 "nbformat_minor": 4
}
